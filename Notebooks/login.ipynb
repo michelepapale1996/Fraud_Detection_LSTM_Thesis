{
 "cells": [
  {
   "cell_type": "code",
   "execution_count": 3,
   "metadata": {},
   "outputs": [],
   "source": [
    "# dataframe management\n",
    "import pandas as pd             \n",
    "\n",
    "# numerical computation\n",
    "import numpy as np\n",
    "\n",
    "# visualization library\n",
    "import seaborn as sns\n",
    "sns.set(style=\"white\", color_codes=True)\n",
    "sns.set_context(rc={\"font.family\":'sans',\"font.size\":24,\"axes.titlesize\":24,\"axes.labelsize\":24})   \n",
    "\n",
    "\n",
    "# import matplotlib and allow it to plot inline\n",
    "import matplotlib.pyplot as plt\n",
    "%matplotlib inline\n",
    "\n",
    "# seaborn can generate several warnings, we ignore them\n",
    "import warnings \n",
    "warnings.filterwarnings(\"ignore\")\n",
    "\n",
    "from sklearn.cluster import KMeans\n",
    "\n",
    "#in order to prin all the columns\n",
    "pd.set_option('display.max_columns', 100)"
   ]
  },
  {
   "cell_type": "code",
   "execution_count": 2,
   "metadata": {},
   "outputs": [],
   "source": [
    "#reading the datasets\n",
    "bonifici = pd.read_csv(\"quiubi_bonifici.csv\")\n",
    "ricariche = pd.read_csv(\"quiubi_ricariche.csv\")\n",
    "login = pd.read_csv(\"quiubi_login.csv\")"
   ]
  },
  {
   "cell_type": "markdown",
   "metadata": {},
   "source": [
    "# Preprocessing Login"
   ]
  },
  {
   "cell_type": "markdown",
   "metadata": {},
   "source": [
    "The \"Indice\", \"status\" and \"country\" columns are useless for any type of analysis so we drop it."
   ]
  },
  {
   "cell_type": "code",
   "execution_count": 43,
   "metadata": {},
   "outputs": [],
   "source": [
    "login = login.drop(['indice', \"Country\", \"Status\", \"Servizio\"], axis=1)"
   ]
  },
  {
   "cell_type": "code",
   "execution_count": 44,
   "metadata": {},
   "outputs": [
    {
     "data": {
      "text/html": [
       "<div>\n",
       "<style scoped>\n",
       "    .dataframe tbody tr th:only-of-type {\n",
       "        vertical-align: middle;\n",
       "    }\n",
       "\n",
       "    .dataframe tbody tr th {\n",
       "        vertical-align: top;\n",
       "    }\n",
       "\n",
       "    .dataframe thead th {\n",
       "        text-align: right;\n",
       "    }\n",
       "</style>\n",
       "<table border=\"1\" class=\"dataframe\">\n",
       "  <thead>\n",
       "    <tr style=\"text-align: right;\">\n",
       "      <th></th>\n",
       "      <th>IP</th>\n",
       "      <th>Timestamp</th>\n",
       "      <th>UserID</th>\n",
       "      <th>Device</th>\n",
       "      <th>Esito</th>\n",
       "      <th>CC_ASN</th>\n",
       "    </tr>\n",
       "  </thead>\n",
       "  <tbody>\n",
       "    <tr>\n",
       "      <th>0</th>\n",
       "      <td>NaN</td>\n",
       "      <td>2014-12-16 11:09:28</td>\n",
       "      <td>b4d16921a72d35f220817fee0f3c9ee3</td>\n",
       "      <td>Java1.6.0_37</td>\n",
       "      <td>False</td>\n",
       "      <td>n./d.,n./d.</td>\n",
       "    </tr>\n",
       "    <tr>\n",
       "      <th>1</th>\n",
       "      <td>NaN</td>\n",
       "      <td>2014-12-16 11:09:44</td>\n",
       "      <td>6eb44dcd17aef832e51024fbe3e6b1fa</td>\n",
       "      <td>Java1.6.0_37</td>\n",
       "      <td>False</td>\n",
       "      <td>n./d.,n./d.</td>\n",
       "    </tr>\n",
       "    <tr>\n",
       "      <th>2</th>\n",
       "      <td>NaN</td>\n",
       "      <td>2014-12-16 11:09:51</td>\n",
       "      <td>fbcbaebf8f35fe663d4f2a340cbf5c16</td>\n",
       "      <td>Java1.6.0_37</td>\n",
       "      <td>False</td>\n",
       "      <td>n./d.,n./d.</td>\n",
       "    </tr>\n",
       "    <tr>\n",
       "      <th>3</th>\n",
       "      <td>NaN</td>\n",
       "      <td>2014-12-16 11:09:55</td>\n",
       "      <td>8a3153cdc0af0de8e57dbf912eb79f98</td>\n",
       "      <td>Java1.6.0_37</td>\n",
       "      <td>False</td>\n",
       "      <td>n./d.,n./d.</td>\n",
       "    </tr>\n",
       "    <tr>\n",
       "      <th>4</th>\n",
       "      <td>NaN</td>\n",
       "      <td>2014-12-16 11:10:00</td>\n",
       "      <td>68e6b816a3ab4b3f5f49bae7ae3437c1</td>\n",
       "      <td>Java1.6.0_37</td>\n",
       "      <td>False</td>\n",
       "      <td>n./d.,n./d.</td>\n",
       "    </tr>\n",
       "  </tbody>\n",
       "</table>\n",
       "</div>"
      ],
      "text/plain": [
       "    IP            Timestamp                            UserID        Device  \\\n",
       "0  NaN  2014-12-16 11:09:28  b4d16921a72d35f220817fee0f3c9ee3  Java1.6.0_37   \n",
       "1  NaN  2014-12-16 11:09:44  6eb44dcd17aef832e51024fbe3e6b1fa  Java1.6.0_37   \n",
       "2  NaN  2014-12-16 11:09:51  fbcbaebf8f35fe663d4f2a340cbf5c16  Java1.6.0_37   \n",
       "3  NaN  2014-12-16 11:09:55  8a3153cdc0af0de8e57dbf912eb79f98  Java1.6.0_37   \n",
       "4  NaN  2014-12-16 11:10:00  68e6b816a3ab4b3f5f49bae7ae3437c1  Java1.6.0_37   \n",
       "\n",
       "   Esito       CC_ASN  \n",
       "0  False  n./d.,n./d.  \n",
       "1  False  n./d.,n./d.  \n",
       "2  False  n./d.,n./d.  \n",
       "3  False  n./d.,n./d.  \n",
       "4  False  n./d.,n./d.  "
      ]
     },
     "execution_count": 44,
     "metadata": {},
     "output_type": "execute_result"
    }
   ],
   "source": [
    "login.head()"
   ]
  },
  {
   "cell_type": "markdown",
   "metadata": {},
   "source": [
    "## Ip statistics"
   ]
  },
  {
   "cell_type": "code",
   "execution_count": 45,
   "metadata": {},
   "outputs": [
    {
     "name": "stdout",
     "output_type": "stream",
     "text": [
      "Ci sono 3216261 IP in login\n",
      "Ci sono 755545 IP diversi\n",
      "Ci sono 79 IP messi a null\n"
     ]
    }
   ],
   "source": [
    "print(\"Ci sono \" + str(len(login[\"IP\"])) + \" IP in login\")\n",
    "print(\"Ci sono \" + str(len(login[\"IP\"].unique())) + \" IP diversi\")\n",
    "print(\"Ci sono \" + str(login[\"IP\"].isnull().sum()) + \" IP messi a null\")"
   ]
  },
  {
   "cell_type": "code",
   "execution_count": 46,
   "metadata": {},
   "outputs": [
    {
     "data": {
      "text/plain": [
       "count    755544.000000\n",
       "mean          4.256777\n",
       "std         101.840107\n",
       "min           1.000000\n",
       "25%           1.000000\n",
       "50%           1.000000\n",
       "75%           3.000000\n",
       "max       34402.000000\n",
       "Name: IP, dtype: float64"
      ]
     },
     "execution_count": 46,
     "metadata": {},
     "output_type": "execute_result"
    }
   ],
   "source": [
    "login[\"IP\"].value_counts().describe()"
   ]
  },
  {
   "cell_type": "markdown",
   "metadata": {},
   "source": [
    "## UserId statistics"
   ]
  },
  {
   "cell_type": "code",
   "execution_count": 47,
   "metadata": {},
   "outputs": [
    {
     "name": "stdout",
     "output_type": "stream",
     "text": [
      "Ci sono 3216261 UserId in login\n",
      "Ci sono 131382 UserId diversi\n",
      "Ci sono 0 UserId messi a null\n"
     ]
    }
   ],
   "source": [
    "print(\"Ci sono \" + str(len(login[\"UserID\"])) + \" UserId in login\")\n",
    "print(\"Ci sono \" + str(len(login[\"UserID\"].unique())) + \" UserId diversi\")\n",
    "print(\"Ci sono \" + str(login[\"UserID\"].isnull().sum()) + \" UserId messi a null\")"
   ]
  },
  {
   "cell_type": "code",
   "execution_count": 48,
   "metadata": {},
   "outputs": [
    {
     "data": {
      "text/plain": [
       "count    131382.000000\n",
       "mean         24.480226\n",
       "std          44.962468\n",
       "min           1.000000\n",
       "25%           3.000000\n",
       "50%          11.000000\n",
       "75%          27.000000\n",
       "max        1200.000000\n",
       "Name: UserID, dtype: float64"
      ]
     },
     "execution_count": 48,
     "metadata": {},
     "output_type": "execute_result"
    }
   ],
   "source": [
    "login[\"UserID\"].value_counts().describe()"
   ]
  },
  {
   "cell_type": "markdown",
   "metadata": {},
   "source": [
    "### Considerazioni:\n",
    "Ci sono 131382 Utenti diversi e 755545 IP diversi. Ciò vuol dire che si sono loggati da più IP. \n",
    "Todo: controllare se ci sono più utenti che si son loggati dallo stesso IP e se ci sono utenti che si son loggati da più IP diversi."
   ]
  },
  {
   "cell_type": "markdown",
   "metadata": {},
   "source": [
    "## Device statistics"
   ]
  },
  {
   "cell_type": "code",
   "execution_count": 49,
   "metadata": {},
   "outputs": [
    {
     "name": "stdout",
     "output_type": "stream",
     "text": [
      "Ci sono 3216261 Device in login\n",
      "Ci sono 18030 Device diversi\n",
      "Ci sono 1 Device messi a null\n"
     ]
    }
   ],
   "source": [
    "print(\"Ci sono \" + str(len(login[\"Device\"])) + \" Device in login\")\n",
    "print(\"Ci sono \" + str(len(login[\"Device\"].unique())) + \" Device diversi\")\n",
    "print(\"Ci sono \" + str(login[\"Device\"].isnull().sum()) + \" Device messi a null\")"
   ]
  },
  {
   "cell_type": "code",
   "execution_count": 50,
   "metadata": {},
   "outputs": [
    {
     "data": {
      "text/plain": [
       "count     18029.000000\n",
       "mean        178.393699\n",
       "std        3125.085391\n",
       "min           1.000000\n",
       "25%           2.000000\n",
       "50%           6.000000\n",
       "75%          24.000000\n",
       "max      276369.000000\n",
       "Name: Device, dtype: float64"
      ]
     },
     "execution_count": 50,
     "metadata": {},
     "output_type": "execute_result"
    }
   ],
   "source": [
    "login[\"Device\"].value_counts().describe()"
   ]
  },
  {
   "cell_type": "markdown",
   "metadata": {},
   "source": [
    "## CC_ASN statistics"
   ]
  },
  {
   "cell_type": "code",
   "execution_count": 51,
   "metadata": {},
   "outputs": [
    {
     "name": "stdout",
     "output_type": "stream",
     "text": [
      "Ci sono 3216261 CC_ASN in login\n",
      "Ci sono 2309 CC_ASN diversi\n",
      "Ci sono 0 CC_ASN messi a null\n"
     ]
    }
   ],
   "source": [
    "print(\"Ci sono \" + str(len(login[\"CC_ASN\"])) + \" CC_ASN in login\")\n",
    "print(\"Ci sono \" + str(len(login[\"CC_ASN\"].unique())) + \" CC_ASN diversi\")\n",
    "print(\"Ci sono \" + str(login[\"CC_ASN\"].isnull().sum()) + \" CC_ASN messi a null\")"
   ]
  },
  {
   "cell_type": "code",
   "execution_count": 52,
   "metadata": {},
   "outputs": [
    {
     "data": {
      "text/plain": [
       "IT,AS3269      1211686\n",
       "IT,AS12874      344388\n",
       "n./d.,n./d.     321985\n",
       "IT,AS30722      317670\n",
       "IT,AS1267       310710\n",
       "                ...   \n",
       "IT,AS34618         474\n",
       "US,AS7922          469\n",
       "IT,AS28675         458\n",
       "IT,AS42515         455\n",
       "CH,AS9044          454\n",
       "Name: CC_ASN, Length: 100, dtype: int64"
      ]
     },
     "execution_count": 52,
     "metadata": {},
     "output_type": "execute_result"
    }
   ],
   "source": [
    "login[\"CC_ASN\"].value_counts().head(100)"
   ]
  },
  {
   "cell_type": "markdown",
   "metadata": {},
   "source": [
    "## Esito statistics"
   ]
  },
  {
   "cell_type": "code",
   "execution_count": 53,
   "metadata": {},
   "outputs": [
    {
     "name": "stdout",
     "output_type": "stream",
     "text": [
      "Ci sono 3216261 Esito in login\n",
      "Ci sono 2 Esito diversi\n",
      "Ci sono 0 Esito messi a null\n"
     ]
    }
   ],
   "source": [
    "print(\"Ci sono \" + str(len(login[\"Esito\"])) + \" Esito in login\")\n",
    "print(\"Ci sono \" + str(len(login[\"Esito\"].unique())) + \" Esito diversi\")\n",
    "print(\"Ci sono \" + str(login[\"Esito\"].isnull().sum()) + \" Esito messi a null\")"
   ]
  },
  {
   "cell_type": "code",
   "execution_count": 54,
   "metadata": {},
   "outputs": [
    {
     "data": {
      "text/plain": [
       "True     2897589\n",
       "False     318672\n",
       "Name: Esito, dtype: int64"
      ]
     },
     "execution_count": 54,
     "metadata": {},
     "output_type": "execute_result"
    }
   ],
   "source": [
    "login[\"Esito\"].value_counts()"
   ]
  },
  {
   "cell_type": "markdown",
   "metadata": {},
   "source": [
    "## Timestamp statistics"
   ]
  },
  {
   "cell_type": "code",
   "execution_count": null,
   "metadata": {},
   "outputs": [],
   "source": []
  },
  {
   "cell_type": "code",
   "execution_count": null,
   "metadata": {},
   "outputs": [],
   "source": []
  },
  {
   "cell_type": "code",
   "execution_count": null,
   "metadata": {},
   "outputs": [],
   "source": []
  },
  {
   "cell_type": "code",
   "execution_count": null,
   "metadata": {},
   "outputs": [],
   "source": []
  },
  {
   "cell_type": "code",
   "execution_count": null,
   "metadata": {},
   "outputs": [],
   "source": []
  },
  {
   "cell_type": "code",
   "execution_count": null,
   "metadata": {},
   "outputs": [],
   "source": []
  },
  {
   "cell_type": "code",
   "execution_count": null,
   "metadata": {},
   "outputs": [],
   "source": []
  },
  {
   "cell_type": "code",
   "execution_count": null,
   "metadata": {},
   "outputs": [],
   "source": []
  },
  {
   "cell_type": "code",
   "execution_count": 17,
   "metadata": {},
   "outputs": [],
   "source": [
    "data = np.random.random((10, 5))"
   ]
  },
  {
   "cell_type": "code",
   "execution_count": 18,
   "metadata": {},
   "outputs": [
    {
     "data": {
      "text/plain": [
       "array([[0.67103402, 0.67381105, 0.66267476, 0.38531632, 0.93821975],\n",
       "       [0.56321787, 0.90457814, 0.3803937 , 0.91676886, 0.03926822],\n",
       "       [0.43507342, 0.37150208, 0.77947163, 0.82697617, 0.00855248],\n",
       "       [0.09293739, 0.55012673, 0.24012308, 0.36455541, 0.23578773],\n",
       "       [0.46376193, 0.93429038, 0.68194066, 0.97207841, 0.88076116],\n",
       "       [0.04069786, 0.46634919, 0.94454144, 0.21997152, 0.4371224 ],\n",
       "       [0.16546331, 0.18433523, 0.06151806, 0.69482627, 0.36050997],\n",
       "       [0.19896917, 0.17509394, 0.21009555, 0.32396033, 0.5964395 ],\n",
       "       [0.04506746, 0.38709318, 0.56543055, 0.31152852, 0.42924669],\n",
       "       [0.88221931, 0.73802957, 0.8319647 , 0.1163287 , 0.33586891]])"
      ]
     },
     "execution_count": 18,
     "metadata": {},
     "output_type": "execute_result"
    }
   ],
   "source": [
    "data"
   ]
  },
  {
   "cell_type": "code",
   "execution_count": null,
   "metadata": {},
   "outputs": [],
   "source": []
  }
 ],
 "metadata": {
  "kernelspec": {
   "display_name": "Python 3",
   "language": "python",
   "name": "python3"
  },
  "language_info": {
   "codemirror_mode": {
    "name": "ipython",
    "version": 3
   },
   "file_extension": ".py",
   "mimetype": "text/x-python",
   "name": "python",
   "nbconvert_exporter": "python",
   "pygments_lexer": "ipython3",
   "version": "3.6.4"
  }
 },
 "nbformat": 4,
 "nbformat_minor": 2
}
