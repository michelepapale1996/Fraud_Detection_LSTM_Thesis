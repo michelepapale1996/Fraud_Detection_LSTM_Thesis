{
 "cells": [
  {
   "cell_type": "code",
   "execution_count": 1,
   "metadata": {},
   "outputs": [],
   "source": [
    "# dataframe management\n",
    "import pandas as pd             \n",
    "\n",
    "\n",
    "# numerical computation\n",
    "import numpy as np\n",
    "\n",
    "from sklearn import preprocessing\n",
    "\n",
    "# visualization library\n",
    "import seaborn as sns\n",
    "sns.set(style=\"white\", color_codes=True)\n",
    "sns.set_context(rc={\"font.family\":'sans',\"font.size\":24,\"axes.titlesize\":24,\"axes.labelsize\":24})   \n",
    "\n",
    "\n",
    "# import matplotlib and allow it to plot inline\n",
    "import matplotlib.pyplot as plt\n",
    "%matplotlib inline\n",
    "\n",
    "# seaborn can generate several warnings, we ignore them\n",
    "import warnings \n",
    "warnings.filterwarnings(\"ignore\")\n",
    "\n",
    "from sklearn.ensemble import RandomForestRegressor\n",
    "from sklearn.model_selection import train_test_split\n",
    "\n",
    "#in order to prin all the columns\n",
    "pd.set_option('display.max_columns', 100)"
   ]
  },
  {
   "cell_type": "code",
   "execution_count": 3,
   "metadata": {},
   "outputs": [],
   "source": [
    "#reading the datasets\n",
    "bonifici = pd.read_csv(\"datasets/quiubi_bonifici.csv\")\n",
    "segnalaz = pd.read_csv(\"datasets/bonifici_segnalaz.csv\")\n",
    "bonifici.set_index('indice',inplace=True)\n",
    "segnalaz.set_index('indice',inplace=True)"
   ]
  },
  {
   "cell_type": "code",
   "execution_count": 4,
   "metadata": {},
   "outputs": [],
   "source": [
    "# dropping columns with useless data\n",
    "bonifici = bonifici.drop([\"CAP\", \"Servizio\", \"Status\", \"Paese\", \"Provincia\", \"Nazione\", \"IDTransazione\", \"CRO\", \"Causale\", \"Valuta\", \"ProfSicurezza\", \"NumConto\", \"ABI\", \"CAB\", \"Intestatario\", \"Indirizzo\"], axis=1)\n",
    "bonifici = bonifici.drop([\"MsgErrore\", \"Nominativo\", \"TipoOperazione\"], axis=1)\n",
    "segnalaz = segnalaz.drop([\"CAP\", \"Servizio\", \"Status\", \"Paese\", \"Provincia\", \"Nazione\", \"IDTransazione\", \"CRO\", \"Causale\", \"Valuta\", \"ProfSicurezza\", \"NumConto\", \"ABI\", \"CAB\", \"Intestatario\", \"Indirizzo\"], axis=1)\n",
    "segnalaz = segnalaz.drop([\"MsgErrore\", \"Nominativo\", \"TipoOperazione\"], axis=1)"
   ]
  },
  {
   "cell_type": "code",
   "execution_count": 5,
   "metadata": {},
   "outputs": [],
   "source": [
    "# c'è un indice duplicato -> eliminalo\n",
    "# NB: NON E' IL MODO MIGLIORE (GLI INDICI SONO DUPLICATI, MA LE TRANSAZIONI DIVERSE)\n",
    "bonifici = bonifici[~bonifici.index.duplicated()]"
   ]
  },
  {
   "cell_type": "code",
   "execution_count": 6,
   "metadata": {},
   "outputs": [],
   "source": [
    "# datasets merge into bonifici\n",
    "bonifici[\"isFraud\"] = np.zeros(len(bonifici.index))\n",
    "for index, row in segnalaz.iterrows():\n",
    "    if index in bonifici.index:\n",
    "        bonifici.loc[index, \"isFraud\"] = 1\n",
    "    else:\n",
    "        # print(index)\n",
    "        bonifici.append(row)\n",
    "\n",
    "bonifici[\"isFraud\"] = pd.to_numeric(bonifici[\"isFraud\"], downcast='integer')"
   ]
  },
  {
   "cell_type": "markdown",
   "metadata": {},
   "source": [
    "# Min Preprocessing"
   ]
  },
  {
   "cell_type": "code",
   "execution_count": 7,
   "metadata": {},
   "outputs": [],
   "source": [
    "bonifici.Timestamp = pd.to_datetime(bonifici.Timestamp)\n",
    "bonifici.NumConfermaSMS = bonifici.NumConfermaSMS.eq('Si').astype(int)"
   ]
  },
  {
   "cell_type": "code",
   "execution_count": 8,
   "metadata": {},
   "outputs": [
    {
     "data": {
      "text/plain": [
       "array([[1525. ],\n",
       "       [4653.9],\n",
       "       [ 600. ],\n",
       "       ...,\n",
       "       [ 500. ],\n",
       "       [ 279.9],\n",
       "       [ 488. ]])"
      ]
     },
     "execution_count": 8,
     "metadata": {},
     "output_type": "execute_result"
    }
   ],
   "source": [
    "bonifici[\"Importo\"].to_numpy().reshape(-1, 1)"
   ]
  },
  {
   "cell_type": "code",
   "execution_count": 458,
   "metadata": {},
   "outputs": [],
   "source": [
    "x = bonifici[[\"Importo\"]].to_numpy()\n",
    "min_max_scaler = preprocessing.MinMaxScaler()\n",
    "x_scaled = min_max_scaler.fit_transform(x)\n",
    "bonifici[[\"Importo\"]] = x_scaled"
   ]
  }
 ],
 "metadata": {
  "kernelspec": {
   "display_name": "Python 3",
   "language": "python",
   "name": "python3"
  },
  "language_info": {
   "codemirror_mode": {
    "name": "ipython",
    "version": 3
   },
   "file_extension": ".py",
   "mimetype": "text/x-python",
   "name": "python",
   "nbconvert_exporter": "python",
   "pygments_lexer": "ipython3",
   "version": "3.6.4"
  }
 },
 "nbformat": 4,
 "nbformat_minor": 2
}
