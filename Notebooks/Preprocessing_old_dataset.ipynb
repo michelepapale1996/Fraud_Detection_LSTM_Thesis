{
 "cells": [
  {
   "cell_type": "code",
   "execution_count": 2,
   "metadata": {},
   "outputs": [],
   "source": [
    "# dataframe management\n",
    "import pandas as pd             \n",
    "# numerical computation\n",
    "import numpy as np\n",
    "# visualization library\n",
    "import seaborn as sns\n",
    "sns.set(style=\"white\", color_codes=True)\n",
    "sns.set_context(rc={\"font.family\":'sans',\"font.size\":24,\"axes.titlesize\":24,\"axes.labelsize\":24})   \n",
    "# import matplotlib and allow it to plot inline\n",
    "import matplotlib.pyplot as plt\n",
    "%matplotlib inline\n",
    "\n",
    "# seaborn can generate several warnings, we ignore them\n",
    "import warnings \n",
    "warnings.filterwarnings(\"ignore\")\n",
    "#in order to prin all the columns\n",
    "pd.set_option('display.max_columns', 100)\n",
    "pd.set_option('display.max_rows', 10000)\n",
    "from datetime import timedelta, date\n",
    "from statsmodels.graphics.tsaplots import plot_acf, plot_pacf\n",
    "from statsmodels.tsa.stattools import acf, pacf\n",
    "from statsmodels.tsa.seasonal import seasonal_decompose"
   ]
  },
  {
   "cell_type": "code",
   "execution_count": 3,
   "metadata": {},
   "outputs": [],
   "source": [
    "bonifici_old = pd.read_csv(\"../datasets/fraud_buster_users_min_100_transactions.csv\", parse_dates=True, sep=\",\")"
   ]
  },
  {
   "cell_type": "code",
   "execution_count": 4,
   "metadata": {},
   "outputs": [
    {
     "data": {
      "text/html": [
       "<div>\n",
       "<style scoped>\n",
       "    .dataframe tbody tr th:only-of-type {\n",
       "        vertical-align: middle;\n",
       "    }\n",
       "\n",
       "    .dataframe tbody tr th {\n",
       "        vertical-align: top;\n",
       "    }\n",
       "\n",
       "    .dataframe thead th {\n",
       "        text-align: right;\n",
       "    }\n",
       "</style>\n",
       "<table border=\"1\" class=\"dataframe\">\n",
       "  <thead>\n",
       "    <tr style=\"text-align: right;\">\n",
       "      <th></th>\n",
       "      <th>Timestamp</th>\n",
       "      <th>Importo</th>\n",
       "      <th>UserID</th>\n",
       "      <th>IBAN</th>\n",
       "      <th>TipoOperazione</th>\n",
       "      <th>IBAN_CC</th>\n",
       "      <th>CC_ASN</th>\n",
       "      <th>ASN</th>\n",
       "      <th>prova</th>\n",
       "      <th>IP</th>\n",
       "    </tr>\n",
       "  </thead>\n",
       "  <tbody>\n",
       "    <tr>\n",
       "      <th>0</th>\n",
       "      <td>2013-07-22 11:04:18</td>\n",
       "      <td>1815.0</td>\n",
       "      <td>003b255561d93cf8ccd1d02bc2136674</td>\n",
       "      <td>0eb21810e6dd20bc5b16b28c27f03e0c</td>\n",
       "      <td>Bonifici Italia e SEPA</td>\n",
       "      <td>IT</td>\n",
       "      <td>IT</td>\n",
       "      <td>3269</td>\n",
       "      <td>IT,3269</td>\n",
       "      <td>238be47ade449cb116e8d66be4f7a444</td>\n",
       "    </tr>\n",
       "    <tr>\n",
       "      <th>1</th>\n",
       "      <td>2013-04-05 14:43:49</td>\n",
       "      <td>290.4</td>\n",
       "      <td>003b255561d93cf8ccd1d02bc2136674</td>\n",
       "      <td>1204a623eeba1c5650058566b09715fb</td>\n",
       "      <td>Bonifici Italia e SEPA</td>\n",
       "      <td>IT</td>\n",
       "      <td>IT</td>\n",
       "      <td>3269</td>\n",
       "      <td>IT,3269</td>\n",
       "      <td>238be47ade449cb116e8d66be4f7a444</td>\n",
       "    </tr>\n",
       "    <tr>\n",
       "      <th>2</th>\n",
       "      <td>2013-04-05 15:27:38</td>\n",
       "      <td>696.0</td>\n",
       "      <td>003b255561d93cf8ccd1d02bc2136674</td>\n",
       "      <td>1443b2a09c84bc707fdd9ef51de9cc28</td>\n",
       "      <td>Bonifici Italia e SEPA</td>\n",
       "      <td>IT</td>\n",
       "      <td>IT</td>\n",
       "      <td>3269</td>\n",
       "      <td>IT,3269</td>\n",
       "      <td>238be47ade449cb116e8d66be4f7a444</td>\n",
       "    </tr>\n",
       "    <tr>\n",
       "      <th>3</th>\n",
       "      <td>2013-05-07 14:30:06</td>\n",
       "      <td>671.0</td>\n",
       "      <td>003b255561d93cf8ccd1d02bc2136674</td>\n",
       "      <td>1443b2a09c84bc707fdd9ef51de9cc28</td>\n",
       "      <td>Bonifici Italia e SEPA</td>\n",
       "      <td>IT</td>\n",
       "      <td>IT</td>\n",
       "      <td>3269</td>\n",
       "      <td>IT,3269</td>\n",
       "      <td>238be47ade449cb116e8d66be4f7a444</td>\n",
       "    </tr>\n",
       "    <tr>\n",
       "      <th>4</th>\n",
       "      <td>2013-07-05 10:34:39</td>\n",
       "      <td>1064.0</td>\n",
       "      <td>003b255561d93cf8ccd1d02bc2136674</td>\n",
       "      <td>1443b2a09c84bc707fdd9ef51de9cc28</td>\n",
       "      <td>Bonifici Italia e SEPA</td>\n",
       "      <td>IT</td>\n",
       "      <td>IT</td>\n",
       "      <td>3269</td>\n",
       "      <td>IT,3269</td>\n",
       "      <td>238be47ade449cb116e8d66be4f7a444</td>\n",
       "    </tr>\n",
       "  </tbody>\n",
       "</table>\n",
       "</div>"
      ],
      "text/plain": [
       "             Timestamp  Importo                            UserID  \\\n",
       "0  2013-07-22 11:04:18   1815.0  003b255561d93cf8ccd1d02bc2136674   \n",
       "1  2013-04-05 14:43:49    290.4  003b255561d93cf8ccd1d02bc2136674   \n",
       "2  2013-04-05 15:27:38    696.0  003b255561d93cf8ccd1d02bc2136674   \n",
       "3  2013-05-07 14:30:06    671.0  003b255561d93cf8ccd1d02bc2136674   \n",
       "4  2013-07-05 10:34:39   1064.0  003b255561d93cf8ccd1d02bc2136674   \n",
       "\n",
       "                               IBAN          TipoOperazione IBAN_CC CC_ASN  \\\n",
       "0  0eb21810e6dd20bc5b16b28c27f03e0c  Bonifici Italia e SEPA      IT     IT   \n",
       "1  1204a623eeba1c5650058566b09715fb  Bonifici Italia e SEPA      IT     IT   \n",
       "2  1443b2a09c84bc707fdd9ef51de9cc28  Bonifici Italia e SEPA      IT     IT   \n",
       "3  1443b2a09c84bc707fdd9ef51de9cc28  Bonifici Italia e SEPA      IT     IT   \n",
       "4  1443b2a09c84bc707fdd9ef51de9cc28  Bonifici Italia e SEPA      IT     IT   \n",
       "\n",
       "    ASN    prova                                IP  \n",
       "0  3269  IT,3269  238be47ade449cb116e8d66be4f7a444  \n",
       "1  3269  IT,3269  238be47ade449cb116e8d66be4f7a444  \n",
       "2  3269  IT,3269  238be47ade449cb116e8d66be4f7a444  \n",
       "3  3269  IT,3269  238be47ade449cb116e8d66be4f7a444  \n",
       "4  3269  IT,3269  238be47ade449cb116e8d66be4f7a444  "
      ]
     },
     "execution_count": 4,
     "metadata": {},
     "output_type": "execute_result"
    }
   ],
   "source": [
    "bonifici_old.head()"
   ]
  },
  {
   "cell_type": "code",
   "execution_count": null,
   "metadata": {},
   "outputs": [],
   "source": [
    "# creating ASN\n",
    "bonifici_old[\"ASN\"] = bonifici_old.CC_ASN.values\n",
    "bonifici_old[\"ASN\"] = bonifici_old[\"ASN\"].str[3:]"
   ]
  },
  {
   "cell_type": "code",
   "execution_count": null,
   "metadata": {},
   "outputs": [],
   "source": [
    "# grouping by users\n",
    "bonifici_by_user = bonifici_old.groupby(\"UserID\")"
   ]
  },
  {
   "cell_type": "code",
   "execution_count": null,
   "metadata": {
    "scrolled": true
   },
   "outputs": [],
   "source": [
    "# TO GET THE USERS WITH MORE TRANSACTIONS\n",
    "users = []\n",
    "len_user_window = []\n",
    "for user in bonifici_by_user.groups.keys():\n",
    "    # order by time\n",
    "    group = bonifici_by_user.get_group(user).sort_values(by='Timestamp', ascending=True)\n",
    "    len_user_window.append(len(group))\n",
    "    if len(group) > 100:\n",
    "        print(\"user: \", user, \", len: \", len(group))\n",
    "        users.append(user)"
   ]
  },
  {
   "cell_type": "code",
   "execution_count": null,
   "metadata": {},
   "outputs": [],
   "source": [
    "pd.Series(len_user_window).describe()"
   ]
  },
  {
   "cell_type": "code",
   "execution_count": null,
   "metadata": {},
   "outputs": [],
   "source": []
  }
 ],
 "metadata": {
  "kernelspec": {
   "display_name": "Python 3",
   "language": "python",
   "name": "python3"
  },
  "language_info": {
   "codemirror_mode": {
    "name": "ipython",
    "version": 3
   },
   "file_extension": ".py",
   "mimetype": "text/x-python",
   "name": "python",
   "nbconvert_exporter": "python",
   "pygments_lexer": "ipython3",
   "version": "3.6.4"
  }
 },
 "nbformat": 4,
 "nbformat_minor": 2
}
