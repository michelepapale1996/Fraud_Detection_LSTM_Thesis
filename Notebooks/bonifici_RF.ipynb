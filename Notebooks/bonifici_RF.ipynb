{
 "cells": [
  {
   "cell_type": "code",
   "execution_count": 1,
   "metadata": {},
   "outputs": [],
   "source": [
    "# dataframe management\n",
    "import pandas as pd             \n",
    "\n",
    "\n",
    "# numerical computation\n",
    "import numpy as np\n",
    "\n",
    "from sklearn import preprocessing\n",
    "\n",
    "# visualization library\n",
    "import seaborn as sns\n",
    "sns.set(style=\"white\", color_codes=True)\n",
    "sns.set_context(rc={\"font.family\":'sans',\"font.size\":24,\"axes.titlesize\":24,\"axes.labelsize\":24})   \n",
    "\n",
    "\n",
    "# import matplotlib and allow it to plot inline\n",
    "import matplotlib.pyplot as plt\n",
    "%matplotlib inline\n",
    "\n",
    "# seaborn can generate several warnings, we ignore them\n",
    "import warnings \n",
    "warnings.filterwarnings(\"ignore\")\n",
    "\n",
    "from sklearn.ensemble import RandomForestRegressor\n",
    "from sklearn.model_selection import train_test_split\n",
    "\n",
    "#in order to prin all the columns\n",
    "pd.set_option('display.max_columns', 100)"
   ]
  },
  {
   "cell_type": "code",
   "execution_count": 3,
   "metadata": {},
   "outputs": [],
   "source": [
    "#reading the datasets\n",
    "bonifici = pd.read_csv(\"datasets/quiubi_bonifici.csv\")\n",
    "segnalaz = pd.read_csv(\"datasets/bonifici_segnalaz.csv\")\n",
    "bonifici.set_index('indice',inplace=True)\n",
    "segnalaz.set_index('indice',inplace=True)"
   ]
  },
  {
   "cell_type": "code",
   "execution_count": 4,
   "metadata": {},
   "outputs": [],
   "source": [
    "# dropping columns with useless data\n",
    "bonifici = bonifici.drop([\"CAP\", \"Servizio\", \"Status\", \"Paese\", \"Provincia\", \"Nazione\", \"IDTransazione\", \"CRO\", \"Causale\", \"Valuta\", \"ProfSicurezza\", \"NumConto\", \"ABI\", \"CAB\", \"Intestatario\", \"Indirizzo\"], axis=1)\n",
    "bonifici = bonifici.drop([\"MsgErrore\", \"Nominativo\", \"TipoOperazione\"], axis=1)\n",
    "segnalaz = segnalaz.drop([\"CAP\", \"Servizio\", \"Status\", \"Paese\", \"Provincia\", \"Nazione\", \"IDTransazione\", \"CRO\", \"Causale\", \"Valuta\", \"ProfSicurezza\", \"NumConto\", \"ABI\", \"CAB\", \"Intestatario\", \"Indirizzo\"], axis=1)\n",
    "segnalaz = segnalaz.drop([\"MsgErrore\", \"Nominativo\", \"TipoOperazione\"], axis=1)"
   ]
  },
  {
   "cell_type": "code",
   "execution_count": 5,
   "metadata": {},
   "outputs": [],
   "source": [
    "# c'è un indice duplicato -> eliminalo\n",
    "# NB: NON E' IL MODO MIGLIORE (GLI INDICI SONO DUPLICATI, MA LE TRANSAZIONI DIVERSE)\n",
    "bonifici = bonifici[~bonifici.index.duplicated()]"
   ]
  },
  {
   "cell_type": "code",
   "execution_count": 6,
   "metadata": {},
   "outputs": [],
   "source": [
    "# datasets merge into bonifici\n",
    "bonifici[\"isFraud\"] = np.zeros(len(bonifici.index))\n",
    "for index, row in segnalaz.iterrows():\n",
    "    if index in bonifici.index:\n",
    "        bonifici.loc[index, \"isFraud\"] = 1\n",
    "    else:\n",
    "        # print(index)\n",
    "        bonifici.append(row)\n",
    "\n",
    "bonifici[\"isFraud\"] = pd.to_numeric(bonifici[\"isFraud\"], downcast='integer')"
   ]
  },
  {
   "cell_type": "markdown",
   "metadata": {},
   "source": [
    "# Min Preprocessing"
   ]
  },
  {
   "cell_type": "code",
   "execution_count": 7,
   "metadata": {},
   "outputs": [],
   "source": [
    "bonifici.Timestamp = pd.to_datetime(bonifici.Timestamp)\n",
    "bonifici.NumConfermaSMS = bonifici.NumConfermaSMS.eq('Si').astype(int)"
   ]
  },
  {
   "cell_type": "code",
   "execution_count": 8,
   "metadata": {},
   "outputs": [
    {
     "data": {
      "text/plain": [
       "array([[1525. ],\n",
       "       [4653.9],\n",
       "       [ 600. ],\n",
       "       ...,\n",
       "       [ 500. ],\n",
       "       [ 279.9],\n",
       "       [ 488. ]])"
      ]
     },
     "execution_count": 8,
     "metadata": {},
     "output_type": "execute_result"
    }
   ],
   "source": [
    "bonifici[\"Importo\"].to_numpy().reshape(-1, 1)"
   ]
  },
  {
   "cell_type": "code",
   "execution_count": 458,
   "metadata": {},
   "outputs": [],
   "source": [
    "x = bonifici[[\"Importo\"]].to_numpy()\n",
    "min_max_scaler = preprocessing.MinMaxScaler()\n",
    "x_scaled = min_max_scaler.fit_transform(x)\n",
    "bonifici[[\"Importo\"]] = x_scaled"
   ]
  },
  {
   "cell_type": "code",
   "execution_count": 459,
   "metadata": {},
   "outputs": [],
   "source": [
    "# Labels are the values we want to predict\n",
    "labels = np.array(bonifici['isFraud'])\n",
    "# Remove the labels from the features\n",
    "bonifici = bonifici[[\"Importo\", \"NumConfermaSMS\"]]\n",
    "# Saving feature names for later use\n",
    "feature_list = [\"Importo\", \"NumConfermaSMS\"]\n",
    "# Convert to numpy array\n",
    "features = np.array(bonifici)"
   ]
  },
  {
   "cell_type": "code",
   "execution_count": 460,
   "metadata": {},
   "outputs": [],
   "source": [
    "train_features, test_features, train_labels, test_labels = train_test_split(features, labels, test_size = 0.25, random_state = 42)"
   ]
  },
  {
   "cell_type": "code",
   "execution_count": 461,
   "metadata": {},
   "outputs": [
    {
     "name": "stdout",
     "output_type": "stream",
     "text": [
      "Training Features Shape: (362181, 2)\n",
      "Training Labels Shape: (362181,)\n",
      "Testing Features Shape: (120727, 2)\n",
      "Testing Labels Shape: (120727,)\n"
     ]
    }
   ],
   "source": [
    "print('Training Features Shape:', train_features.shape)\n",
    "print('Training Labels Shape:', train_labels.shape)\n",
    "print('Testing Features Shape:', test_features.shape)\n",
    "print('Testing Labels Shape:', test_labels.shape)"
   ]
  },
  {
   "cell_type": "code",
   "execution_count": 462,
   "metadata": {},
   "outputs": [],
   "source": [
    "# Instantiate model with 1000 decision trees\n",
    "rf = RandomForestRegressor(n_estimators = 1000, random_state = 42)\n",
    "# Train the model on training data\n",
    "rf.fit(train_features, train_labels);"
   ]
  },
  {
   "cell_type": "code",
   "execution_count": 463,
   "metadata": {},
   "outputs": [
    {
     "data": {
      "text/plain": [
       "array([0.        , 0.00016463, 0.        , ..., 0.        , 0.00016463,\n",
       "       0.        ])"
      ]
     },
     "execution_count": 463,
     "metadata": {},
     "output_type": "execute_result"
    }
   ],
   "source": [
    "rf.predict(test_features)"
   ]
  },
  {
   "cell_type": "code",
   "execution_count": null,
   "metadata": {},
   "outputs": [],
   "source": []
  },
  {
   "cell_type": "code",
   "execution_count": null,
   "metadata": {},
   "outputs": [],
   "source": []
  },
  {
   "cell_type": "code",
   "execution_count": null,
   "metadata": {},
   "outputs": [],
   "source": []
  },
  {
   "cell_type": "code",
   "execution_count": null,
   "metadata": {},
   "outputs": [],
   "source": []
  },
  {
   "cell_type": "code",
   "execution_count": null,
   "metadata": {},
   "outputs": [],
   "source": []
  },
  {
   "cell_type": "code",
   "execution_count": 9,
   "metadata": {},
   "outputs": [
    {
     "name": "stdout",
     "output_type": "stream",
     "text": [
      "[array([112., 118.], dtype=float32), array([118., 132.], dtype=float32), array([132., 129.], dtype=float32), array([129., 121.], dtype=float32), array([121., 135.], dtype=float32), array([135., 148.], dtype=float32), array([148., 148.], dtype=float32), array([148., 136.], dtype=float32), array([136., 119.], dtype=float32), array([119., 104.], dtype=float32), array([104., 118.], dtype=float32), array([118., 115.], dtype=float32), array([115., 126.], dtype=float32), array([126., 141.], dtype=float32), array([141., 135.], dtype=float32), array([135., 125.], dtype=float32), array([125., 149.], dtype=float32), array([149., 170.], dtype=float32), array([170., 170.], dtype=float32), array([170., 158.], dtype=float32), array([158., 133.], dtype=float32), array([133., 114.], dtype=float32), array([114., 140.], dtype=float32), array([140., 145.], dtype=float32), array([145., 150.], dtype=float32), array([150., 178.], dtype=float32), array([178., 163.], dtype=float32), array([163., 172.], dtype=float32), array([172., 178.], dtype=float32), array([178., 199.], dtype=float32), array([199., 199.], dtype=float32), array([199., 184.], dtype=float32), array([184., 162.], dtype=float32), array([162., 146.], dtype=float32), array([146., 166.], dtype=float32), array([166., 171.], dtype=float32), array([171., 180.], dtype=float32), array([180., 193.], dtype=float32), array([193., 181.], dtype=float32), array([181., 183.], dtype=float32), array([183., 218.], dtype=float32), array([218., 230.], dtype=float32), array([230., 242.], dtype=float32), array([242., 209.], dtype=float32), array([209., 191.], dtype=float32), array([191., 172.], dtype=float32), array([172., 194.], dtype=float32), array([194., 196.], dtype=float32), array([196., 196.], dtype=float32), array([196., 236.], dtype=float32), array([236., 235.], dtype=float32), array([235., 229.], dtype=float32), array([229., 243.], dtype=float32), array([243., 264.], dtype=float32), array([264., 272.], dtype=float32), array([272., 237.], dtype=float32), array([237., 211.], dtype=float32), array([211., 180.], dtype=float32), array([180., 201.], dtype=float32), array([201., 204.], dtype=float32), array([204., 188.], dtype=float32), array([188., 235.], dtype=float32), array([235., 227.], dtype=float32), array([227., 234.], dtype=float32), array([234., 264.], dtype=float32), array([264., 302.], dtype=float32), array([302., 293.], dtype=float32), array([293., 259.], dtype=float32), array([259., 229.], dtype=float32), array([229., 203.], dtype=float32), array([203., 229.], dtype=float32), array([229., 242.], dtype=float32), array([242., 233.], dtype=float32), array([233., 267.], dtype=float32), array([267., 269.], dtype=float32), array([269., 270.], dtype=float32), array([270., 315.], dtype=float32), array([315., 364.], dtype=float32), array([364., 347.], dtype=float32), array([347., 312.], dtype=float32), array([312., 274.], dtype=float32), array([274., 237.], dtype=float32), array([237., 278.], dtype=float32), array([278., 284.], dtype=float32), array([284., 277.], dtype=float32), array([277., 317.], dtype=float32), array([317., 313.], dtype=float32), array([313., 318.], dtype=float32), array([318., 374.], dtype=float32), array([374., 413.], dtype=float32), array([413., 405.], dtype=float32), array([405., 355.], dtype=float32), array([355., 306.], dtype=float32)]\n",
      "---------------\n",
      "[132.0, 129.0, 121.0, 135.0, 148.0, 148.0, 136.0, 119.0, 104.0, 118.0, 115.0, 126.0, 141.0, 135.0, 125.0, 149.0, 170.0, 170.0, 158.0, 133.0, 114.0, 140.0, 145.0, 150.0, 178.0, 163.0, 172.0, 178.0, 199.0, 199.0, 184.0, 162.0, 146.0, 166.0, 171.0, 180.0, 193.0, 181.0, 183.0, 218.0, 230.0, 242.0, 209.0, 191.0, 172.0, 194.0, 196.0, 196.0, 236.0, 235.0, 229.0, 243.0, 264.0, 272.0, 237.0, 211.0, 180.0, 201.0, 204.0, 188.0, 235.0, 227.0, 234.0, 264.0, 302.0, 293.0, 259.0, 229.0, 203.0, 229.0, 242.0, 233.0, 267.0, 269.0, 270.0, 315.0, 364.0, 347.0, 312.0, 274.0, 237.0, 278.0, 284.0, 277.0, 317.0, 313.0, 318.0, 374.0, 413.0, 405.0, 355.0, 306.0, 271.0]\n",
      "[array([315., 301.], dtype=float32), array([301., 356.], dtype=float32), array([356., 348.], dtype=float32), array([348., 355.], dtype=float32), array([355., 422.], dtype=float32), array([422., 465.], dtype=float32), array([465., 467.], dtype=float32), array([467., 404.], dtype=float32), array([404., 347.], dtype=float32), array([347., 305.], dtype=float32), array([305., 336.], dtype=float32), array([336., 340.], dtype=float32), array([340., 318.], dtype=float32), array([318., 362.], dtype=float32), array([362., 348.], dtype=float32), array([348., 363.], dtype=float32), array([363., 435.], dtype=float32), array([435., 491.], dtype=float32), array([491., 505.], dtype=float32), array([505., 404.], dtype=float32), array([404., 359.], dtype=float32), array([359., 310.], dtype=float32), array([310., 337.], dtype=float32), array([337., 360.], dtype=float32), array([360., 342.], dtype=float32), array([342., 406.], dtype=float32), array([406., 396.], dtype=float32), array([396., 420.], dtype=float32), array([420., 472.], dtype=float32), array([472., 548.], dtype=float32), array([548., 559.], dtype=float32), array([559., 463.], dtype=float32), array([463., 407.], dtype=float32), array([407., 362.], dtype=float32), array([362., 405.], dtype=float32), array([405., 417.], dtype=float32), array([417., 391.], dtype=float32), array([391., 419.], dtype=float32), array([419., 461.], dtype=float32), array([461., 472.], dtype=float32), array([472., 535.], dtype=float32), array([535., 622.], dtype=float32), array([622., 606.], dtype=float32), array([606., 508.], dtype=float32), array([508., 461.], dtype=float32)]\n",
      "---------------\n",
      "[356.0, 348.0, 355.0, 422.0, 465.0, 467.0, 404.0, 347.0, 305.0, 336.0, 340.0, 318.0, 362.0, 348.0, 363.0, 435.0, 491.0, 505.0, 404.0, 359.0, 310.0, 337.0, 360.0, 342.0, 406.0, 396.0, 420.0, 472.0, 548.0, 559.0, 463.0, 407.0, 362.0, 405.0, 417.0, 391.0, 419.0, 461.0, 472.0, 535.0, 622.0, 606.0, 508.0, 461.0, 390.0]\n"
     ]
    }
   ],
   "source": [
    "# LSTM for international airline passengers problem with time step regression framing\n",
    "import numpy\n",
    "import matplotlib.pyplot as plt\n",
    "from pandas import read_csv\n",
    "import math\n",
    "from sklearn.preprocessing import MinMaxScaler\n",
    "from sklearn.metrics import mean_squared_error\n",
    "\n",
    "\n",
    "# convert an array of values into a dataset matrix\n",
    "def create_dataset(dataset, look_back=1):\n",
    "    dataX, dataY = [], []\n",
    "    for i in range(len(dataset)-look_back-1):\n",
    "        a = dataset[i:(i+look_back), 0]\n",
    "        dataX.append(a)\n",
    "        dataY.append(dataset[i + look_back, 0])\n",
    "    print(dataX)\n",
    "    print(\"---------------\")\n",
    "    print(dataY)\n",
    "    return numpy.array(dataX), numpy.array(dataY)\n",
    "\n",
    "\n",
    "# fix random seed for reproducibility\n",
    "numpy.random.seed(7)\n",
    "# load the dataset\n",
    "dataframe = read_csv('datasets/airline-passengers.csv', usecols=[1], engine='python')\n",
    "dataset = dataframe.values\n",
    "dataset = dataset.astype('float32')\n",
    "# normalize the dataset\n",
    "# split into train and test sets\n",
    "train_size = int(len(dataset) * 0.67)\n",
    "test_size = len(dataset) - train_size\n",
    "train, test = dataset[0:train_size,:], dataset[train_size:len(dataset),:]\n",
    "# reshape into X=t and Y=t+1\n",
    "look_back = 2\n",
    "trainX, trainY = create_dataset(train, look_back)\n",
    "testX, testY = create_dataset(test, look_back)\n",
    "# reshape input to be [samples, time steps, features]\n",
    "trainX = numpy.reshape(trainX, (trainX.shape[0], trainX.shape[1], 1))\n",
    "testX = numpy.reshape(testX, (testX.shape[0], testX.shape[1], 1))"
   ]
  },
  {
   "cell_type": "code",
   "execution_count": null,
   "metadata": {},
   "outputs": [],
   "source": []
  },
  {
   "cell_type": "code",
   "execution_count": null,
   "metadata": {},
   "outputs": [],
   "source": []
  },
  {
   "cell_type": "code",
   "execution_count": null,
   "metadata": {},
   "outputs": [],
   "source": []
  },
  {
   "cell_type": "code",
   "execution_count": null,
   "metadata": {
    "collapsed": true
   },
   "outputs": [],
   "source": []
  },
  {
   "cell_type": "code",
   "execution_count": null,
   "metadata": {},
   "outputs": [],
   "source": []
  },
  {
   "cell_type": "code",
   "execution_count": null,
   "metadata": {},
   "outputs": [],
   "source": []
  }
 ],
 "metadata": {
  "kernelspec": {
   "display_name": "Python 3",
   "language": "python",
   "name": "python3"
  },
  "language_info": {
   "codemirror_mode": {
    "name": "ipython",
    "version": 3
   },
   "file_extension": ".py",
   "mimetype": "text/x-python",
   "name": "python",
   "nbconvert_exporter": "python",
   "pygments_lexer": "ipython3",
   "version": "3.6.4"
  }
 },
 "nbformat": 4,
 "nbformat_minor": 2
}
